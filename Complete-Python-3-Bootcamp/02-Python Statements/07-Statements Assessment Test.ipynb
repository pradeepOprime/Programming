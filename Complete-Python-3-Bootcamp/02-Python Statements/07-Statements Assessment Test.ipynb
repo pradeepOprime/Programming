{
 "cells": [
  {
   "cell_type": "markdown",
   "metadata": {
    "collapsed": true
   },
   "source": [
    "# Statements Assessment Test\n",
    "Let's test your knowledge!"
   ]
  },
  {
   "cell_type": "markdown",
   "metadata": {},
   "source": [
    "_____\n",
    "**Use <code>for</code>, .split(), and <code>if</code> to create a Statement that will print out words that start with 's':**"
   ]
  },
  {
   "cell_type": "code",
   "execution_count": 5,
   "metadata": {},
   "outputs": [],
   "source": [
    "st = 'Print only the words that start with s in this sentence'"
   ]
  },
  {
   "cell_type": "code",
   "execution_count": 10,
   "metadata": {},
   "outputs": [
    {
     "name": "stdout",
     "output_type": "stream",
     "text": [
      "['Print', 'only', 'the', 'words', 'that', 'start', 'with', 's', 'in', 'this', 'sentence']\n",
      "start\n",
      "s\n",
      "sentence\n"
     ]
    }
   ],
   "source": [
    "#Code here\n",
    "mylist = st.split()\n",
    "print (mylist)\n",
    "for word in mylist:\n",
    "    if word[0]=='s':\n",
    "        print(word)\n",
    "        "
   ]
  },
  {
   "cell_type": "markdown",
   "metadata": {},
   "source": [
    "______\n",
    "**Use range() to print all the even numbers from 0 to 10.**"
   ]
  },
  {
   "cell_type": "code",
   "execution_count": 11,
   "metadata": {},
   "outputs": [
    {
     "name": "stdout",
     "output_type": "stream",
     "text": [
      "0\n",
      "2\n",
      "4\n",
      "6\n",
      "8\n",
      "10\n"
     ]
    }
   ],
   "source": [
    "#Code Here\n",
    "for a in range(0,11,2):\n",
    "    print(a)"
   ]
  },
  {
   "cell_type": "markdown",
   "metadata": {},
   "source": [
    "___\n",
    "**Use a List Comprehension to create a list of all numbers between 1 and 50 that are divisible by 3.**"
   ]
  },
  {
   "cell_type": "code",
   "execution_count": 14,
   "metadata": {},
   "outputs": [
    {
     "data": {
      "text/plain": [
       "[3, 6, 9, 12, 15, 18, 21, 24, 27, 30, 33, 36, 39, 42, 45, 48]"
      ]
     },
     "execution_count": 14,
     "metadata": {},
     "output_type": "execute_result"
    }
   ],
   "source": [
    "#Code in this cell\n",
    "[lp for lp in range(3,51,3)]"
   ]
  },
  {
   "cell_type": "markdown",
   "metadata": {},
   "source": [
    "_____\n",
    "**Go through the string below and if the length of a word is even print \"even!\"**"
   ]
  },
  {
   "cell_type": "code",
   "execution_count": null,
   "metadata": {},
   "outputs": [],
   "source": [
    "st = 'Print every word in this sentence that has an even number of letters'"
   ]
  },
  {
   "cell_type": "code",
   "execution_count": 20,
   "metadata": {},
   "outputs": [
    {
     "name": "stdout",
     "output_type": "stream",
     "text": [
      "['Print', 'only', 'the', 'words', 'that', 'start', 'with', 's', 'in', 'this', 'sentence']\n",
      "eve\n",
      "eve\n",
      "eve\n",
      "eve\n",
      "eve\n",
      "eve\n"
     ]
    }
   ],
   "source": [
    "#Code in this cell\n",
    "stlst = st.split()\n",
    "print(stlst)\n",
    "for itm in stlst:\n",
    "    if len(itm)%2==0:\n",
    "        print ('eve')"
   ]
  },
  {
   "cell_type": "markdown",
   "metadata": {},
   "source": [
    "____\n",
    "**Write a program that prints the integers from 1 to 100. But for multiples of three print \"Fizz\" instead of the number, and for the multiples of five print \"Buzz\". For numbers which are multiples of both three and five print \"FizzBuzz\".**"
   ]
  },
  {
   "cell_type": "code",
   "execution_count": 23,
   "metadata": {},
   "outputs": [
    {
     "name": "stdout",
     "output_type": "stream",
     "text": [
      "1\n",
      "2\n",
      "Fizz\n",
      "3\n",
      "4\n",
      "Buzz\n",
      "Fizz\n",
      "6\n",
      "7\n",
      "8\n",
      "Fizz\n",
      "9\n",
      "Buzz\n",
      "11\n",
      "Fizz\n",
      "12\n",
      "13\n",
      "14\n",
      "FizzBuzz\n",
      "Fizz\n",
      "Buzz\n",
      "16\n",
      "17\n",
      "Fizz\n",
      "18\n",
      "19\n",
      "Buzz\n",
      "Fizz\n",
      "21\n",
      "22\n",
      "23\n",
      "Fizz\n",
      "24\n",
      "Buzz\n",
      "26\n",
      "Fizz\n",
      "27\n",
      "28\n",
      "29\n",
      "FizzBuzz\n",
      "Fizz\n",
      "Buzz\n",
      "31\n",
      "32\n",
      "Fizz\n",
      "33\n",
      "34\n",
      "Buzz\n",
      "Fizz\n",
      "36\n",
      "37\n",
      "38\n",
      "Fizz\n",
      "39\n",
      "Buzz\n",
      "41\n",
      "Fizz\n",
      "42\n",
      "43\n",
      "44\n",
      "FizzBuzz\n",
      "Fizz\n",
      "Buzz\n",
      "46\n",
      "47\n",
      "Fizz\n",
      "48\n",
      "49\n",
      "Buzz\n",
      "Fizz\n",
      "51\n",
      "52\n",
      "53\n",
      "Fizz\n",
      "54\n",
      "Buzz\n",
      "56\n",
      "Fizz\n",
      "57\n",
      "58\n",
      "59\n",
      "FizzBuzz\n",
      "Fizz\n",
      "Buzz\n",
      "61\n",
      "62\n",
      "Fizz\n",
      "63\n",
      "64\n",
      "Buzz\n",
      "Fizz\n",
      "66\n",
      "67\n",
      "68\n",
      "Fizz\n",
      "69\n",
      "Buzz\n",
      "71\n",
      "Fizz\n",
      "72\n",
      "73\n",
      "74\n",
      "FizzBuzz\n",
      "Fizz\n",
      "Buzz\n",
      "76\n",
      "77\n",
      "Fizz\n",
      "78\n",
      "79\n",
      "Buzz\n",
      "Fizz\n",
      "81\n",
      "82\n",
      "83\n",
      "Fizz\n",
      "84\n",
      "Buzz\n",
      "86\n",
      "Fizz\n",
      "87\n",
      "88\n",
      "89\n",
      "FizzBuzz\n",
      "Fizz\n",
      "Buzz\n",
      "91\n",
      "92\n",
      "Fizz\n",
      "93\n",
      "94\n",
      "Buzz\n",
      "Fizz\n",
      "96\n",
      "97\n",
      "98\n",
      "Fizz\n",
      "99\n",
      "Buzz\n"
     ]
    }
   ],
   "source": [
    "#Code in this cell\n",
    "for num in range(1,101):\n",
    "    if (num%5==0 and num%3==0):\n",
    "        print('FizzBuzz')\n",
    "    if (num%3==0):\n",
    "        print('Fizz')\n",
    "    if (num%5==0):\n",
    "        print('Buzz')\n",
    "    else: print(num)    "
   ]
  },
  {
   "cell_type": "markdown",
   "metadata": {},
   "source": [
    "____\n",
    "**Use List Comprehension to create a list of the first letters of every word in the string below:**"
   ]
  },
  {
   "cell_type": "code",
   "execution_count": 25,
   "metadata": {},
   "outputs": [],
   "source": [
    "st = 'Create a list of the first letters of every word in this string'"
   ]
  },
  {
   "cell_type": "code",
   "execution_count": 33,
   "metadata": {},
   "outputs": [
    {
     "name": "stdout",
     "output_type": "stream",
     "text": [
      "0 C\n",
      "1 r\n",
      "2 e\n",
      "3 a\n",
      "4 t\n",
      "5 e\n",
      "6  \n",
      "7 a\n",
      "8  \n",
      "9 l\n",
      "10 i\n",
      "11 s\n",
      "12 t\n",
      "13  \n",
      "14 o\n",
      "15 f\n",
      "16  \n",
      "17 t\n",
      "18 h\n",
      "19 e\n",
      "20  \n",
      "21 f\n",
      "22 i\n",
      "23 r\n",
      "24 s\n",
      "25 t\n",
      "26  \n",
      "27 l\n",
      "28 e\n",
      "29 t\n",
      "30 t\n",
      "31 e\n",
      "32 r\n",
      "33 s\n",
      "34  \n",
      "35 o\n",
      "36 f\n",
      "37  \n",
      "38 e\n",
      "39 v\n",
      "40 e\n",
      "41 r\n",
      "42 y\n",
      "43  \n",
      "44 w\n",
      "45 o\n",
      "46 r\n",
      "47 d\n",
      "48  \n",
      "49 i\n",
      "50 n\n",
      "51  \n",
      "52 t\n",
      "53 h\n",
      "54 i\n",
      "55 s\n",
      "56  \n",
      "57 s\n",
      "58 t\n",
      "59 r\n",
      "60 i\n",
      "61 n\n",
      "62 g\n"
     ]
    }
   ],
   "source": [
    "#Code in this cell\n",
    "for (i,v) in enumerate(st,start=0):\n",
    "    print (i,v)"
   ]
  },
  {
   "cell_type": "markdown",
   "metadata": {},
   "source": [
    "### Great Job!"
   ]
  }
 ],
 "metadata": {
  "kernelspec": {
   "display_name": "Python 3",
   "language": "python",
   "name": "python3"
  },
  "language_info": {
   "codemirror_mode": {
    "name": "ipython",
    "version": 3
   },
   "file_extension": ".py",
   "mimetype": "text/x-python",
   "name": "python",
   "nbconvert_exporter": "python",
   "pygments_lexer": "ipython3",
   "version": "3.7.4"
  }
 },
 "nbformat": 4,
 "nbformat_minor": 1
}
